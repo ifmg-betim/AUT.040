{
 "cells": [
  {
   "cell_type": "markdown",
   "metadata": {},
   "source": [
    "# TP03a - `[escreva seu nome aqui]` - `[escreva seu RA aqui]`\n",
    "\n",
    "Sistemas lineares (SLITs) de tempo discreto.\n",
    "\n",
    "**HONESTIDADE ACADÊMICA**\n",
    "\n",
    "Todo o trabalho feito no sentido do cumprimento das expectativas deste curso deve ser exclusivamente seu. A colaboração de terceiros na realização dos trabalhos não é permitida.\n",
    "\n",
    "Ver ou copiar o trabalho de outro indivíduo do curso ou retirar material de um livro, site ou outra fonte, mesmo em parte e apresentá-lo como seu próprio constitui desonestidade acadêmica, assim como mostrar ou dar a sua obra, mesmo em parte, a outro estudante. Da mesma forma, é desonestidade acadêmica fornecer ou tornar as soluções disponíveis dos trabalhos para os indivíduos que fazem ou poderão fazer este curso no futuro. Você está convidado a discutir o material do curso com os outros, a fim de melhor compreendê-lo. Você pode até discutir sobre os trabalhos com os colegas, mas você não pode compartilhar códigos, funções, projetos, tabelas, desenhos esquemáticos, mapas ou diagramas.\n",
    "\n",
    "Você pode e deve recorrer à Web para obter referências na busca de soluções para os trabalhos, mas não por soluções definitivas para os problemas. No entanto, deve-se citar explicitamente no projeto a origem de qualquer procedimento ou técnica que você descubra fora do curso.\n",
    "\n",
    "Todas as formas de desonestidade acadêmica são tratadas com rigor.\n",
    "\n",
    "\n",
    "**Instruções:**\n",
    "- Use a versão Python 3.x\n",
    "- Não apague os comentários que já existem nas células de código. Mas é claro que você pode adicionar outros comentários.\n",
    "- Não inclua mais células do que o especificado e mantenha a organização.\n",
    "- Use `plt.figure(figsize=(10,2))` para ajustar o tamanho das figuras e sempre coloque rótulos.\n",
    "\n",
    "**Objetivos**\n",
    "- Implementar diferentes sistemas discretos\n",
    "- Analisar os sistemas implementados"
   ]
  },
  {
   "cell_type": "markdown",
   "metadata": {},
   "source": [
    "## Dados epidemiológicos\n",
    "\n",
    "O código abaixo carrega os dados atualizados da covid-19 no Brasil (Fonte: https://github.com/datasets/covid-19)."
   ]
  },
  {
   "cell_type": "code",
   "execution_count": 58,
   "metadata": {},
   "outputs": [
    {
     "data": {
      "text/html": [
       "<div>\n",
       "<style scoped>\n",
       "    .dataframe tbody tr th:only-of-type {\n",
       "        vertical-align: middle;\n",
       "    }\n",
       "\n",
       "    .dataframe tbody tr th {\n",
       "        vertical-align: top;\n",
       "    }\n",
       "\n",
       "    .dataframe thead th {\n",
       "        text-align: right;\n",
       "    }\n",
       "</style>\n",
       "<table border=\"1\" class=\"dataframe\">\n",
       "  <thead>\n",
       "    <tr style=\"text-align: right;\">\n",
       "      <th></th>\n",
       "      <th>Date</th>\n",
       "      <th>Country</th>\n",
       "      <th>Confirmed</th>\n",
       "      <th>Recovered</th>\n",
       "      <th>Deaths</th>\n",
       "    </tr>\n",
       "  </thead>\n",
       "  <tbody>\n",
       "    <tr>\n",
       "      <th>6118</th>\n",
       "      <td>2020-01-22</td>\n",
       "      <td>Brazil</td>\n",
       "      <td>0</td>\n",
       "      <td>0</td>\n",
       "      <td>0</td>\n",
       "    </tr>\n",
       "    <tr>\n",
       "      <th>6119</th>\n",
       "      <td>2020-01-23</td>\n",
       "      <td>Brazil</td>\n",
       "      <td>0</td>\n",
       "      <td>0</td>\n",
       "      <td>0</td>\n",
       "    </tr>\n",
       "    <tr>\n",
       "      <th>6120</th>\n",
       "      <td>2020-01-24</td>\n",
       "      <td>Brazil</td>\n",
       "      <td>0</td>\n",
       "      <td>0</td>\n",
       "      <td>0</td>\n",
       "    </tr>\n",
       "    <tr>\n",
       "      <th>6121</th>\n",
       "      <td>2020-01-25</td>\n",
       "      <td>Brazil</td>\n",
       "      <td>0</td>\n",
       "      <td>0</td>\n",
       "      <td>0</td>\n",
       "    </tr>\n",
       "    <tr>\n",
       "      <th>6122</th>\n",
       "      <td>2020-01-26</td>\n",
       "      <td>Brazil</td>\n",
       "      <td>0</td>\n",
       "      <td>0</td>\n",
       "      <td>0</td>\n",
       "    </tr>\n",
       "    <tr>\n",
       "      <th>...</th>\n",
       "      <td>...</td>\n",
       "      <td>...</td>\n",
       "      <td>...</td>\n",
       "      <td>...</td>\n",
       "      <td>...</td>\n",
       "    </tr>\n",
       "    <tr>\n",
       "      <th>6378</th>\n",
       "      <td>2020-10-08</td>\n",
       "      <td>Brazil</td>\n",
       "      <td>5028444</td>\n",
       "      <td>4488092</td>\n",
       "      <td>148957</td>\n",
       "    </tr>\n",
       "    <tr>\n",
       "      <th>6379</th>\n",
       "      <td>2020-10-09</td>\n",
       "      <td>Brazil</td>\n",
       "      <td>5055888</td>\n",
       "      <td>4502854</td>\n",
       "      <td>149639</td>\n",
       "    </tr>\n",
       "    <tr>\n",
       "      <th>6380</th>\n",
       "      <td>2020-10-10</td>\n",
       "      <td>Brazil</td>\n",
       "      <td>5082637</td>\n",
       "      <td>4502854</td>\n",
       "      <td>150198</td>\n",
       "    </tr>\n",
       "    <tr>\n",
       "      <th>6381</th>\n",
       "      <td>2020-10-11</td>\n",
       "      <td>Brazil</td>\n",
       "      <td>5094979</td>\n",
       "      <td>4526393</td>\n",
       "      <td>150488</td>\n",
       "    </tr>\n",
       "    <tr>\n",
       "      <th>6382</th>\n",
       "      <td>2020-10-12</td>\n",
       "      <td>Brazil</td>\n",
       "      <td>5103408</td>\n",
       "      <td>4526393</td>\n",
       "      <td>150689</td>\n",
       "    </tr>\n",
       "  </tbody>\n",
       "</table>\n",
       "<p>265 rows × 5 columns</p>\n",
       "</div>"
      ],
      "text/plain": [
       "            Date Country  Confirmed  Recovered  Deaths\n",
       "6118  2020-01-22  Brazil          0          0       0\n",
       "6119  2020-01-23  Brazil          0          0       0\n",
       "6120  2020-01-24  Brazil          0          0       0\n",
       "6121  2020-01-25  Brazil          0          0       0\n",
       "6122  2020-01-26  Brazil          0          0       0\n",
       "...          ...     ...        ...        ...     ...\n",
       "6378  2020-10-08  Brazil    5028444    4488092  148957\n",
       "6379  2020-10-09  Brazil    5055888    4502854  149639\n",
       "6380  2020-10-10  Brazil    5082637    4502854  150198\n",
       "6381  2020-10-11  Brazil    5094979    4526393  150488\n",
       "6382  2020-10-12  Brazil    5103408    4526393  150689\n",
       "\n",
       "[265 rows x 5 columns]"
      ]
     },
     "execution_count": 58,
     "metadata": {},
     "output_type": "execute_result"
    }
   ],
   "source": [
    "# Importa dados\n",
    "import pandas as pd, numpy as np\n",
    "URL_DATASET = r'https://raw.githubusercontent.com/datasets/covid-19/master/data/countries-aggregated.csv'\n",
    "dados = pd.read_csv(URL_DATASET)\n",
    "\n",
    "# datas\n",
    "datas = dados[dados['Country'] == 'Brazil']['Date']\n",
    "\n",
    "# número de casos recuperados\n",
    "brRec = dados[dados['Country'] == 'Brazil']['Recovered'].to_numpy(dtype=np.float64)\n",
    "\n",
    "# número de casos confirmados\n",
    "brCas = dados[dados['Country'] == 'Brazil']['Confirmed'].to_numpy(dtype=np.float64)\n",
    "\n",
    "# número de mortes\n",
    "brMor = dados[dados['Country'] == 'Brazil']['Deaths'].to_numpy(dtype=np.float64)\n",
    "\n",
    "dados[dados['Country'] == 'Brazil'].head(-1)"
   ]
  },
  {
   "cell_type": "markdown",
   "metadata": {},
   "source": [
    "Existem três variáveis do código acima que você utilizará:\n",
    "- `brRec`: número de casos recuperados\n",
    "- `brCas`: número de casos confirmados\n",
    "- `brMor`: número de mortes\n",
    "\n",
    "<mark>**Fazer:** importe as bibliotecas e plote os gráficos das três variáveis acima.</mark>"
   ]
  },
  {
   "cell_type": "code",
   "execution_count": 83,
   "metadata": {},
   "outputs": [],
   "source": [
    "### SEU CÓDIGO COMEÇA AQUI ###\n",
    "None\n",
    "### FIM DO CÓDIGO ###"
   ]
  },
  {
   "cell_type": "markdown",
   "metadata": {},
   "source": [
    "**Saída esperada**:\n",
    "1. Gráfico do número de casos recuperados diários\n",
    "1. Gráfico do número de casos confirmados diários\n",
    "1. Gráfico do número de mortes diárias\n",
    "---\n",
    "\n",
    "## Análise na frequência\n",
    "\n",
    "Agora faça análise desses sinais no domínio da frequência.\n",
    "\n",
    "<mark>**Fazer:** faça a FFT (somente módulo) dos sinais acima. Sabendo que o período de amostragem é de um dia, represente o eixo horizontal da FFT em uma unidade que seja possível de relacionar facilmente com o período de dias correspondente.</mark>"
   ]
  },
  {
   "cell_type": "code",
   "execution_count": 56,
   "metadata": {},
   "outputs": [],
   "source": [
    "### SEU CÓDIGO COMEÇA AQUI ###\n",
    "None\n",
    "### FIM DO CÓDIGO ###"
   ]
  },
  {
   "attachments": {},
   "cell_type": "markdown",
   "metadata": {},
   "source": [
    "**Saída esperada**:\n",
    "1. FFT (módulo) do número de casos recuperados\n",
    "1. FFT (módulo) do número de casos confirmados\n",
    "1. FFT (módulo) do número de mortes\n",
    "---\n",
    "\n",
    "## Sistemas de tempo discreto\n",
    "\n",
    "Usando as funções da biblioteca de processamento de sinais (https://docs.scipy.org/doc/scipy/reference/signal.html), implemente os seguintes sistemas:\n",
    "1. Sistema de diferenças regressivas\n",
    "1. Sistema média móvel causal de 7 amostras (uma semana)\n",
    "1. Sistema média móvel não causal de 7 amostras (uma semana)\n",
    "\n",
    "**ATENÇÃO**: as funções usadas para sistemas contínuos são diferentes das usadas para sistemas discretos.\n",
    "\n",
    "Após implementar os três sistemas acima, para cada um deles faça:\n",
    "- Plote o diagrama de Bode do sistema (módulo e fase)\n",
    "- Mostre a resposta ao degrau do sistema\n",
    "- Mostre a constelação de polos e zeros no plano z (você pode usar a função `control.pzmap` da biblioteca 'Python Control Systems Library' se quiser)\n",
    "\n",
    "<mark>**Fazer:** mostre os gráficos para cada sistema em uma célula.</mark>"
   ]
  },
  {
   "cell_type": "code",
   "execution_count": 56,
   "metadata": {},
   "outputs": [],
   "source": [
    "### SEU CÓDIGO COMEÇA AQUI ###\n",
    "None\n",
    "### FIM DO CÓDIGO ###"
   ]
  },
  {
   "attachments": {},
   "cell_type": "markdown",
   "metadata": {},
   "source": [
    "**Saída esperada**:\n",
    "1. Diagrama de Bode do **sistema de diferenças regressivas**\n",
    "1. Resposta ao degrau\n",
    "1. Constelação de polos e zeros"
   ]
  },
  {
   "cell_type": "code",
   "execution_count": 56,
   "metadata": {},
   "outputs": [],
   "source": [
    "### SEU CÓDIGO COMEÇA AQUI ###\n",
    "None\n",
    "### FIM DO CÓDIGO ###"
   ]
  },
  {
   "attachments": {},
   "cell_type": "markdown",
   "metadata": {},
   "source": [
    "**Saída esperada**:\n",
    "1. Diagrama de Bode do **sistema média móvel causal**\n",
    "1. Resposta ao degrau\n",
    "1. Constelação de polos e zeros"
   ]
  },
  {
   "cell_type": "code",
   "execution_count": 56,
   "metadata": {},
   "outputs": [],
   "source": [
    "### SEU CÓDIGO COMEÇA AQUI ###\n",
    "None\n",
    "### FIM DO CÓDIGO ###"
   ]
  },
  {
   "cell_type": "markdown",
   "metadata": {},
   "source": [
    "**Saída esperada**:\n",
    "1. Diagrama de Bode do **sistema média móvel não causal**\n",
    "1. Resposta ao degrau\n",
    "1. Constelação de polos e zeros\n",
    "---\n",
    "\n",
    "## Passando os dados pelos sistemas\n",
    "\n",
    "Abaixo, passe um dos dados da covid (escolha APENAS um dos três dados) pelos três sistemas implementados. Faça os seguinte gráficos.\n",
    "1. Compare o sinal, no domínio do tempo, antes e após passar pelo sistema\n",
    "1. Compare o módulo da FFT do sinal, no domínio do frequência, antes e após passar pelo sistema"
   ]
  },
  {
   "cell_type": "code",
   "execution_count": 84,
   "metadata": {},
   "outputs": [],
   "source": [
    "### SEU CÓDIGO COMEÇA AQUI ###\n",
    "None\n",
    "### FIM DO CÓDIGO ###"
   ]
  },
  {
   "cell_type": "markdown",
   "metadata": {},
   "source": [
    "**Saída esperada**:\n",
    "1. Gráfico no domínio do tempo da entrada e saída de cada sistema sistema\n",
    "1. Gráfico de FFT entrada e saída de cada sistema sistema"
   ]
  },
  {
   "cell_type": "code",
   "execution_count": 84,
   "metadata": {},
   "outputs": [],
   "source": [
    "### SEU CÓDIGO COMEÇA AQUI ###\n",
    "None\n",
    "### FIM DO CÓDIGO ###"
   ]
  },
  {
   "cell_type": "markdown",
   "metadata": {},
   "source": [
    "**Saída esperada**:\n",
    "1. Gráfico no domínio do tempo da entrada e saída de cada sistema sistema\n",
    "1. Gráfico de FFT entrada e saída de cada sistema sistema"
   ]
  },
  {
   "cell_type": "code",
   "execution_count": 84,
   "metadata": {},
   "outputs": [],
   "source": [
    "### SEU CÓDIGO COMEÇA AQUI ###\n",
    "None\n",
    "### FIM DO CÓDIGO ###"
   ]
  },
  {
   "cell_type": "markdown",
   "metadata": {},
   "source": [
    "**Saída esperada**:\n",
    "1. Gráfico no domínio do tempo da entrada e saída de cada sistema sistema\n",
    "1. Gráfico de FFT entrada e saída de cada sistema sistema\n",
    "___\n",
    "\n",
    "# Conclusões\n",
    "\n",
    "[`Registre aqui um parágrafo com as principais conclusões deste trabalho`]\n",
    "\n",
    "______________\n",
    "\n",
    "# Desafio (opcional)\n",
    "\n",
    "Use os seus conhecimentos (e também de pesquisas na internet) sobre processamento de sinais discretos para encontrar informações interessantes sobre os dados da covid. Pode usar dados de outros países ou até outra base de dados."
   ]
  },
  {
   "cell_type": "code",
   "execution_count": 2,
   "metadata": {},
   "outputs": [],
   "source": [
    "### SEU CÓDIGO COMEÇA AQUI ###\n",
    "None\n",
    "### FIM DO CÓDIGO ###"
   ]
  },
  {
   "cell_type": "markdown",
   "metadata": {},
   "source": [
    "Bom trabalho :c)"
   ]
  }
 ],
 "metadata": {
  "kernelspec": {
   "display_name": "Python 3",
   "language": "python",
   "name": "python3"
  },
  "language_info": {
   "codemirror_mode": {
    "name": "ipython",
    "version": 3
   },
   "file_extension": ".py",
   "mimetype": "text/x-python",
   "name": "python",
   "nbconvert_exporter": "python",
   "pygments_lexer": "ipython3",
   "version": "3.6.11"
  },
  "toc": {
   "base_numbering": 1,
   "nav_menu": {
    "height": "228px",
    "width": "370px"
   },
   "number_sections": true,
   "sideBar": true,
   "skip_h1_title": false,
   "title_cell": "Table of Contents",
   "title_sidebar": "Contents",
   "toc_cell": false,
   "toc_position": {},
   "toc_section_display": true,
   "toc_window_display": false
  }
 },
 "nbformat": 4,
 "nbformat_minor": 2
}
