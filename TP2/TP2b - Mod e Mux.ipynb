{
 "cells": [
  {
   "cell_type": "markdown",
   "metadata": {},
   "source": [
    "# TP02b - `[escreva seu nome aqui]` - `[escreva seu RA aqui]`\n",
    "\n",
    "Modulação e Multiplexação.\n",
    "\n",
    "**HONESTIDADE ACADÊMICA**\n",
    "\n",
    "Todo o trabalho feito no sentido do cumprimento das expectativas deste curso deve ser exclusivamente seu. A colaboração de terceiros na realização dos trabalhos não é permitida.\n",
    "\n",
    "Ver ou copiar o trabalho de outro indivíduo do curso ou retirar material de um livro, site ou outra fonte, mesmo em parte e apresentá-lo como seu próprio constitui desonestidade acadêmica, assim como mostrar ou dar a sua obra, mesmo em parte, a outro estudante. Da mesma forma, é desonestidade acadêmica fornecer ou tornar as soluções disponíveis dos trabalhos para os indivíduos que fazem ou poderão fazer este curso no futuro. Você está convidado a discutir o material do curso com os outros, a fim de melhor compreendê-lo. Você pode até discutir sobre os trabalhos com os colegas, mas você não pode compartilhar códigos, funções, projetos, tabelas, desenhos esquemáticos, mapas ou diagramas.\n",
    "\n",
    "Você pode e deve recorrer à Web para obter referências na busca de soluções para os trabalhos, mas não por soluções definitivas para os problemas. No entanto, deve-se citar explicitamente no projeto a origem de qualquer procedimento ou técnica que você descubra fora do curso.\n",
    "\n",
    "Todas as formas de desonestidade acadêmica são tratadas com rigor.\n",
    "\n",
    "\n",
    "**Instruções:**\n",
    "- Use a versão Python 3.x\n",
    "- Evite sempre usar usar laços `for` e `while`, fazer contas no formato vetorial é sempre mais rápido.\n",
    "- Não apague os comentários que já existem nas células de código. Mas é claro que você pode adicionar outros comentários.\n",
    "- Não inclua mais células do que o especificado e mantenha a organização!\n",
    "\n",
    "**Objetivos**\n",
    "- Implementar modulação e demodulação de sinais\n",
    "- Implementar multiplexação e demultiplexação"
   ]
  },
  {
   "cell_type": "markdown",
   "metadata": {},
   "source": [
    "# Primeiros passos\n",
    "\n",
    "Neste trabalho você tem um desafio: transmitir três sinais distintos em uma dada largura de banda.\n",
    "\n",
    "Os sinais a serem transmitidos contém informações que não podem ser perdidas. Contudo, para transmiti-los, você pode usar apenas uma faixa limitada de frequências. Você decidirá a forma de fazer a transmissão do sinal com a banda que tem disponível. Não é permitido usar outras faixas de frequências além da disponibilizada.\n",
    "\n",
    "\n",
    "<mark>**Fazer:** para ver a sua faixa de frequências, insira o seu RA na variável `RA` abaixo e veja a mensagem de saída.</mark>\n",
    "\n",
    "\n",
    "*Obs.: não inclua os zeros à esquerda do RA não!*"
   ]
  },
  {
   "cell_type": "code",
   "execution_count": null,
   "metadata": {
    "run_control": {
     "marked": true
    }
   },
   "outputs": [],
   "source": [
    "import numpy as np, scipy as sp, matplotlib.pyplot as plt, time\n",
    "from scipy import signal\n",
    "\n",
    "### SEU CÓDIGO COMEÇA AQUI ###\n",
    "RA = 0\n",
    "### SEU CÓDIGO TERMINA AQUI ###\n",
    "\n",
    "# Frequências máxima e mínima\n",
    "np.random.seed(RA//3); fmin = np.random.uniform(20,100); fmax = fmin+np.random.uniform(36,40);\n",
    "print(\"ATENÇÃO, você tem disponível a faixa de frequências entre %i Hz e %i Hz.\"%(fmin,fmax))"
   ]
  },
  {
   "cell_type": "markdown",
   "metadata": {},
   "source": [
    "# Sinais a serem transmitidos\n",
    "\n",
    "Neste trabalho você tem um desafio: transmitir três sinais distintos em uma dada largura de banda.\n",
    "\n",
    "Os sinais a serem transmitidos contém informações que não podem ser perdidas. Contudo, para transmiti-los, você pode usar apenas uma faixa limitada de frequências. Você decidirá a forma de fazer a transmissão do sinal com a banda que tem disponível.\n",
    "\n",
    "<mark>**Fazer:** entenda as variáveis criadas e rode o código abaixo para ver os sinais nos gráficos.</mark>"
   ]
  },
  {
   "cell_type": "code",
   "execution_count": null,
   "metadata": {
    "run_control": {
     "marked": true
    }
   },
   "outputs": [],
   "source": [
    "# parâmetros úteis\n",
    "N = 50000 #número de pontos dos sinais\n",
    "fs = 1000 #frequência de amostragem (Hz)\n",
    "T = 1/fs #período de amostragem [s]\n",
    "t = np.arange(0, N*T, T) #vetor tempo\n",
    "\n",
    "# sinais \"ideais\" (informação livre de ruído)\n",
    "np.random.seed(RA//2)\n",
    "x1i = 2*np.sum(np.random.rand(7,1)*np.sin(np.random.uniform(0, 7, (7,1))*2*np.pi*t), axis=0)\n",
    "x2i = 2*np.sum(np.random.rand(7,1)*np.sin(np.random.uniform(0, 7, (7,1))*2*np.pi*t), axis=0)\n",
    "x3i = 2*np.sum(np.random.rand(7,1)*np.sin(np.random.uniform(0, 7, (7,1))*2*np.pi*t), axis=0)\n",
    "\n",
    "# sinais com adição de ruído\n",
    "r = .2*np.sum(np.random.rand(7,1)*np.sin(np.random.uniform(12, 30, (7,1))*2*np.pi*t), axis=0) #ruído\n",
    "x1 = x1i + r\n",
    "x2 = x2i + r\n",
    "x3 = x3i + r\n",
    "\n",
    "# sinais\n",
    "plt.figure(figsize=(15,3))\n",
    "plt.subplot(311); plt.plot(t, x1); plt.ylabel(\"$x_1(t)$\"); plt.xlim((0,max(t))); plt.xticks([])\n",
    "plt.subplot(312); plt.plot(t, x2); plt.ylabel(\"$x_2(t)$\"); plt.xlim((0,max(t))); plt.xticks([])\n",
    "plt.subplot(313); plt.plot(t, x3); plt.ylabel(\"$x_3(t)$\"); plt.xlim((0,max(t)))\n",
    "plt.xlabel(\"tempo [s]\")\n",
    "plt.show();"
   ]
  },
  {
   "cell_type": "markdown",
   "metadata": {},
   "source": [
    "# FFT dos sinais\n",
    "\n",
    "O primeiro passo de um projeto de processamento de sinais é entender as características gerais dos sinais envolvidos. Para isso, a FFT é uma ferramenta bastante útil. Sabe-se que os sinais de informação não tem conteúdo espectral de interesse para frequências superiores a 7 Hz. Contudo, os sinais trabalhados possuem algum ruído acima desse valor. Para verificar isso, faça a FFT dos sinais.\n",
    "\n",
    "\n",
    "<mark>**Fazer:** FFT dos sinais.</mark>\n",
    "1. Faça a FFT dos sinais `x1`, `x2`, `x3`\n",
    "1. Faça três gráficos, um para cada sinal, do módulo da FFT (o gráfico da fase é facultativo)\n",
    "1. Os gráficos **DEVEM** ter tamanho `figsize=(10,1.5)`\n",
    "1. Mostre o eixo de frequências sempre em Hz "
   ]
  },
  {
   "cell_type": "code",
   "execution_count": null,
   "metadata": {},
   "outputs": [],
   "source": [
    "### SEU CÓDIGO COMEÇA AQUI ###\n",
    "None\n",
    "### SEU CÓDIGO TERMINA AQUI ###"
   ]
  },
  {
   "cell_type": "markdown",
   "metadata": {},
   "source": [
    "**Saída esperada**:\n",
    "1. Gráfico do módulo da FFT do sinal `x1`\n",
    "1. Gráfico do módulo da FFT do sinal `x2`\n",
    "1. Gráfico do módulo da FFT do sinal `x3`\n",
    "\n",
    "\n",
    "# Processamento dos sinais analógicos\n",
    "\n",
    "Use as células abaixo para projetar um sistema que use a banda de frequências disponível (especificada ateriormente) para transmitir os sinais, simultaneamente. Você pode usar qualquer uma das técnicas abordadas na disciplina (filtragem, modulação, multiplexação, etc.), mas atenção para as regras abaixo.\n",
    "\n",
    "**REGRAS DE PROJETO**:\n",
    "1. Só podem ser utilizados sistemas analógicos implementáveis na prática. Isso exclui, por exemplo, filtros ideais ou sistemas não causais.\n",
    "1. Ao projetar filtros, é obrigatório mostrar o diagrama de Bode (amplitude em dB e escala logaritmica no eixo de frequências) do filtro, com tamanho `figsize=(10,4)`, e, no mesmo gráfico, o sombreamente referente às especificações do filtro. Você mesmo deve determinar as especificações de modo a atender o problema e também escolher o tipo de filtro a ser implementado.\n",
    "1. Ao passar um sinal por um sistema (filtro, modulador, multiplexador, etc.), é obrigatório mostrar, num mesmo gráfico com tamanho `figsize=(10,1.5)`, o módulo da FFT do sinal antes e após o processo de filtragem. Mostrar a fase é facultativo. Sugere-se não representar o sinal em dB.\n",
    "1. Nesta parte do trabalho você pode usar **até cinco células de código para cada uma das subseções abaixo**. Não é necessário mais que isso, mas você pode usar menos (apague as vazias nesse caso).\n",
    "1. Todos os gráficos devem ter rótulos nos eixos e escala de ampliação adequada!\n",
    "1. Organize seu código com comentários e use também os espaços destinados à escrita, identificados com `[descreva aqui...]`.\n",
    "\n",
    "## Etapa de Pré-processamento\n",
    "\n",
    "Nesta etapa você pode usar sistemas para pré-processar os sinais, antes de fazer a modulação.\n",
    "\n",
    "`[escreva aqui o que foi feito na etapa de pré-processamento, antes da modulação]`"
   ]
  },
  {
   "cell_type": "code",
   "execution_count": null,
   "metadata": {},
   "outputs": [],
   "source": [
    "### SEU CÓDIGO COMEÇA AQUI ###\n",
    "None\n",
    "### SEU CÓDIGO TERMINA AQUI ###"
   ]
  },
  {
   "cell_type": "code",
   "execution_count": null,
   "metadata": {},
   "outputs": [],
   "source": [
    "### SEU CÓDIGO COMEÇA AQUI ###\n",
    "None\n",
    "### SEU CÓDIGO TERMINA AQUI ###"
   ]
  },
  {
   "cell_type": "code",
   "execution_count": null,
   "metadata": {},
   "outputs": [],
   "source": [
    "### SEU CÓDIGO COMEÇA AQUI ###\n",
    "None\n",
    "### SEU CÓDIGO TERMINA AQUI ###"
   ]
  },
  {
   "cell_type": "code",
   "execution_count": null,
   "metadata": {},
   "outputs": [],
   "source": [
    "### SEU CÓDIGO COMEÇA AQUI ###\n",
    "None\n",
    "### SEU CÓDIGO TERMINA AQUI ###"
   ]
  },
  {
   "cell_type": "code",
   "execution_count": null,
   "metadata": {},
   "outputs": [],
   "source": [
    "### SEU CÓDIGO COMEÇA AQUI ###\n",
    "None\n",
    "### SEU CÓDIGO TERMINA AQUI ###"
   ]
  },
  {
   "cell_type": "markdown",
   "metadata": {},
   "source": [
    "## Etapa de Modulação/Multiplexação\n",
    "\n",
    "Nessa etapa você deve produzir um sinal modulado na variável `xm` que ocupe **apenas a banda especificada**. É obrigatório mostrar a FFT do sinal modulado de forma a ficar claro que apenas a banda especificada foi utilizada. Mostre, no mesmo gráfico da FFT, um sobreamento (comando `plt.fill`) nas faixas de frequências que não podem ser ocupadas pelo sinal modulado, deixando com fundo branco apenas a banda disponibilizada para o seu trabalho. Mostre o eixo de frequências sempre em Hz.\n",
    "\n",
    "`[escreva aqui o que foi feito na etapa de modulação]`"
   ]
  },
  {
   "cell_type": "code",
   "execution_count": null,
   "metadata": {},
   "outputs": [],
   "source": [
    "### SEU CÓDIGO COMEÇA AQUI ###\n",
    "xm=None\n",
    "### SEU CÓDIGO TERMINA AQUI ###"
   ]
  },
  {
   "cell_type": "code",
   "execution_count": null,
   "metadata": {},
   "outputs": [],
   "source": [
    "### SEU CÓDIGO COMEÇA AQUI ###\n",
    "None\n",
    "### SEU CÓDIGO TERMINA AQUI ###"
   ]
  },
  {
   "cell_type": "code",
   "execution_count": null,
   "metadata": {},
   "outputs": [],
   "source": [
    "### SEU CÓDIGO COMEÇA AQUI ###\n",
    "None\n",
    "### SEU CÓDIGO TERMINA AQUI ###"
   ]
  },
  {
   "cell_type": "code",
   "execution_count": null,
   "metadata": {},
   "outputs": [],
   "source": [
    "### SEU CÓDIGO COMEÇA AQUI ###\n",
    "None\n",
    "### SEU CÓDIGO TERMINA AQUI ###"
   ]
  },
  {
   "cell_type": "code",
   "execution_count": null,
   "metadata": {},
   "outputs": [],
   "source": [
    "### SEU CÓDIGO COMEÇA AQUI ###\n",
    "None\n",
    "### SEU CÓDIGO TERMINA AQUI ###"
   ]
  },
  {
   "cell_type": "markdown",
   "metadata": {},
   "source": [
    "## Etapa de Demodulação/Demultiplexação\n",
    "\n",
    "Nessa etapa você deve obter os três sinais recuperados, **obrigatoriamente nas variáveis** `x1r`, `x2r` e `x3r`. Esses sinais devem ser obtidos a partir do sinal modulado `xm` que contém todos os três sinais.\n",
    "\n",
    "`[escreva aqui o que foi feito na etapa de demodulação]`"
   ]
  },
  {
   "cell_type": "code",
   "execution_count": null,
   "metadata": {},
   "outputs": [],
   "source": [
    "### SEU CÓDIGO COMEÇA AQUI ###\n",
    "x1r=None\n",
    "x2r=None\n",
    "x3r=None\n",
    "### SEU CÓDIGO TERMINA AQUI ###"
   ]
  },
  {
   "cell_type": "code",
   "execution_count": null,
   "metadata": {},
   "outputs": [],
   "source": [
    "### SEU CÓDIGO COMEÇA AQUI ###\n",
    "None\n",
    "### SEU CÓDIGO TERMINA AQUI ###"
   ]
  },
  {
   "cell_type": "code",
   "execution_count": null,
   "metadata": {},
   "outputs": [],
   "source": [
    "### SEU CÓDIGO COMEÇA AQUI ###\n",
    "None\n",
    "### SEU CÓDIGO TERMINA AQUI ###"
   ]
  },
  {
   "cell_type": "code",
   "execution_count": null,
   "metadata": {},
   "outputs": [],
   "source": [
    "### SEU CÓDIGO COMEÇA AQUI ###\n",
    "None\n",
    "### SEU CÓDIGO TERMINA AQUI ###"
   ]
  },
  {
   "cell_type": "code",
   "execution_count": null,
   "metadata": {},
   "outputs": [],
   "source": [
    "### SEU CÓDIGO COMEÇA AQUI ###\n",
    "None\n",
    "### SEU CÓDIGO TERMINA AQUI ###"
   ]
  },
  {
   "cell_type": "markdown",
   "metadata": {},
   "source": [
    "# Comparação com original\n",
    "\n",
    "Nessa etapa você deve comparar três sinais \"ideais\" (sem ruído), denotados por `x1i`, `x2i` e `x3i`, com os sinais recuperados `x1r`, `x2i` e `x3i`. Para cada par de sinal, faça o gráfico comparativo no domínio da frequência e no domínio do tempo. Ajuste adequadamente as escalas dos gráficos, rótulos e etc."
   ]
  },
  {
   "cell_type": "code",
   "execution_count": null,
   "metadata": {},
   "outputs": [],
   "source": [
    "### SEU CÓDIGO COMEÇA AQUI ###\n",
    "None\n",
    "### SEU CÓDIGO TERMINA AQUI ###"
   ]
  },
  {
   "cell_type": "code",
   "execution_count": null,
   "metadata": {},
   "outputs": [],
   "source": [
    "### SEU CÓDIGO COMEÇA AQUI ###\n",
    "None\n",
    "### SEU CÓDIGO TERMINA AQUI ###"
   ]
  },
  {
   "cell_type": "code",
   "execution_count": null,
   "metadata": {},
   "outputs": [],
   "source": [
    "### SEU CÓDIGO COMEÇA AQUI ###\n",
    "None\n",
    "### SEU CÓDIGO TERMINA AQUI ###"
   ]
  },
  {
   "cell_type": "markdown",
   "metadata": {},
   "source": [
    "**Saída esperada**:\n",
    "1. Gráfico comparativo de `x1i` (original) e `x1r` (recuperado) no domínio do tempo.\n",
    "1. Gráfico comparativo de `x1i` (original) e `x1r` (recuperado) no domínio da frequência.\n",
    "1. Gráfico comparativo de `x2i` (original) e `x2r` (recuperado) no domínio do tempo.\n",
    "1. Gráfico comparativo de `x2i` (original) e `x2r` (recuperado) no domínio da frequência.\n",
    "1. Gráfico comparativo de `x3i` (original) e `x3r` (recuperado) no domínio do tempo.\n",
    "1. Gráfico comparativo de `x3i` (original) e `x3r` (recuperado) no domínio da frequência.\n",
    "\n",
    "___\n",
    "\n",
    "\n",
    "# Desafio (não é obrigatório!)\n",
    "\n",
    "Você é capaz de implementar o sistema acima para uma largura de banda ainda menor?\n",
    "\n",
    "Na célula abaixo, implemente todo o sistema de modulação, multiplexação, demultiplexação, demodulação de forma a utilizar uma largura de banda entre 100 Hz e 118 Hz. Mostre os gráficos dos sinais antes e após a modulação. Mostre também o comparativo do sinal recuperado com o original. Use até cinco células de código."
   ]
  },
  {
   "cell_type": "code",
   "execution_count": null,
   "metadata": {},
   "outputs": [],
   "source": [
    "### SEU CÓDIGO COMEÇA AQUI ###\n",
    "None\n",
    "### FIM DO CÓDIGO ###"
   ]
  },
  {
   "cell_type": "markdown",
   "metadata": {},
   "source": [
    "___\n",
    "\n",
    "# Concluões\n",
    "\n",
    "Escreva as conclusões deste trabalho e o que de mais interessante você observou. Escreva abaixo conclusões de ordem técnica apenas, sobre os prós e contras de cada ferramenta usada e principais características observadas."
   ]
  },
  {
   "cell_type": "markdown",
   "metadata": {},
   "source": [
    "`[escreva aqui suas conclusões!]`"
   ]
  },
  {
   "cell_type": "markdown",
   "metadata": {},
   "source": [
    "Parabéns por ter completado o trabalho :c)"
   ]
  }
 ],
 "metadata": {
  "kernelspec": {
   "display_name": "Python 3",
   "language": "python",
   "name": "python3"
  },
  "language_info": {
   "codemirror_mode": {
    "name": "ipython",
    "version": 3
   },
   "file_extension": ".py",
   "mimetype": "text/x-python",
   "name": "python",
   "nbconvert_exporter": "python",
   "pygments_lexer": "ipython3",
   "version": "3.6.11"
  },
  "toc": {
   "base_numbering": 1,
   "nav_menu": {
    "height": "228px",
    "width": "370px"
   },
   "number_sections": true,
   "sideBar": true,
   "skip_h1_title": false,
   "title_cell": "Table of Contents",
   "title_sidebar": "Contents",
   "toc_cell": false,
   "toc_position": {},
   "toc_section_display": true,
   "toc_window_display": false
  }
 },
 "nbformat": 4,
 "nbformat_minor": 2
}
