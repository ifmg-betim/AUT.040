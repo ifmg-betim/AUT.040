{
 "cells": [
  {
   "cell_type": "markdown",
   "metadata": {},
   "source": [
    "# TP02a - `[escreva seu nome aqui]` - `[escreva seu RA aqui]`\n",
    "\n",
    "Projeto e simulação de filtros analógicos.\n",
    "\n",
    "**Instruções:**\n",
    "- Use a versão Python 3.x\n",
    "- Evite sempre usar usar laços `for` e `while`, fazer contas no formato vetorial é sempre mais rápido.\n",
    "- Não apague os comentários que já existem nas células de código. Mas é claro que você pode adicionar outros comentários.\n",
    "\n",
    "**Objetivos**\n",
    "- Realizar o projeto de filtros analógicos\n",
    "- Analisar resposta em frequência do filtro projetado"
   ]
  },
  {
   "cell_type": "markdown",
   "metadata": {},
   "source": [
    "## Projeto de filtros\n",
    "\n",
    "Nesta atividade você fará a implementação de filtros analógicos.\n",
    "\n",
    "### Especificações e filtro protótipo\n",
    "Projete um filtro analógico passa-altas que satisfaça as seguintes especificações:\n",
    "- $A_p = 0,2~\\mathrm{dB}$\n",
    "- $A_r = 50~\\mathrm{dB}$\n",
    "- $\\Omega_{r} = 400~\\mathrm{Hz}$\n",
    "- $\\Omega_{p} = 440~\\mathrm{Hz}$\n",
    "\n",
    "Obtenha o filtro protótipo (normalizado) que satisfaça as especificações acima. Na célula abaixo, mostre a resposta em frequência (módulo e fase) desse filtro protótipo. Mostre as aproximações de Butterworth, Chebyshev (tipo 1 e tipo 2) e Elíptico **no mesmo gráfico**. Mostre também a constelação de polos e zeros de cada aproximação (use as mesmas cores para um mesmo tipo de filtro)."
   ]
  },
  {
   "cell_type": "code",
   "execution_count": 2,
   "metadata": {},
   "outputs": [],
   "source": [
    "### SEU CÓDIGO COMEÇA AQUI ###\n",
    "None\n",
    "### FIM DO CÓDIGO ###"
   ]
  },
  {
   "cell_type": "markdown",
   "metadata": {},
   "source": [
    "**Saída esperada**:\n",
    "1. Gráfico de resposta em frequência (módulo e fase) com resposta dos filtros **protótipos** (normalizados) que atendem às especificações. Cada gráfico deve conter quatro curvas, correspondente às aproximações de Butterworth, Chebyshev tipo 1, Chebyshev tipo 2 e Elíptico.\n",
    "2. Constelação de polos e zeros dos filtros protótipos normalizados, com cores iguais para sistemas iguais e cores diferentes para filtros diferentes.\n",
    "___\n",
    "\n",
    "### Filtro \"desnormalizado\"\n",
    "Abaixo, obtenha quatro funções de transferências \"desnormalizadas\", uma para cada aproximação (Butterworth, Chebyshev tipo 1, Chebyshev tipo 2 e Elíptico). **Num mesmo gráfico**, mostre as respostas em frequências dos filtros obtidos com o respectivo gabarito das especificações. Mostre também a constelação de polos e zeros dos filtros obtidos."
   ]
  },
  {
   "cell_type": "code",
   "execution_count": 2,
   "metadata": {},
   "outputs": [],
   "source": [
    "### SEU CÓDIGO COMEÇA AQUI ###\n",
    "None\n",
    "### FIM DO CÓDIGO ###"
   ]
  },
  {
   "cell_type": "markdown",
   "metadata": {},
   "source": [
    "**Saída esperada**:\n",
    "1. Gráfico de resposta em frequência (módulo e fase) com resposta dos filtros que atendem às especificações. Cada gráfico deve conter quatro curvas, correspondente às aproximações de Butterworth, Chebyshev tipo 1, Chebyshev tipo 2 e Elíptico, além do gabarito com as especificações do filtro.\n",
    "2. Constelação de polos e zeros dos filtros, com cores iguais para sistemas iguais e cores diferentes para filtros diferentes.\n",
    "___\n",
    "\n",
    "Mostre abaixo a resposta em degrau de cada um dos filtros obtidos."
   ]
  },
  {
   "cell_type": "code",
   "execution_count": 2,
   "metadata": {},
   "outputs": [],
   "source": [
    "### SEU CÓDIGO COMEÇA AQUI ###\n",
    "None\n",
    "### FIM DO CÓDIGO ###"
   ]
  },
  {
   "cell_type": "markdown",
   "metadata": {},
   "source": [
    "**Saída esperada**:\n",
    "1. Gráfico da resposta ao degrau para cada um dos filtros obtidos. O gráfico deve conter quatro curvas, correspondente às aproximações de Butterworth, Chebyshev tipo 1, Chebyshev tipo 2 e Elíptico.\n",
    "___\n",
    "\n",
    "### Usando o filtro especificado\n",
    "\n",
    "Escolha **apenas um** dos filtros obtidos para ser utilizado.\n",
    "- Crie um sinal aleatório `ur` do tipo ruído branco, com variância elevada\n",
    "- Filtre o sinal e obtenha um sinal `yr` filtrado\n",
    "- Mostre, num mesmo gráfico a FFT do sinal antes (`ur`) e após (`yr`) o processo de filtragem"
   ]
  },
  {
   "cell_type": "code",
   "execution_count": 3,
   "metadata": {},
   "outputs": [],
   "source": [
    "### SEU CÓDIGO COMEÇA AQUI ###\n",
    "None\n",
    "### FIM DO CÓDIGO ###"
   ]
  },
  {
   "cell_type": "markdown",
   "metadata": {},
   "source": [
    "**Saída esperada**:\n",
    "1. Gráfico de resposta em frequência (módulo e fase) do sinal antes e após passar pelo filtro.\n",
    "___\n",
    "\n",
    "### Sinais senoidais\n",
    "Escolha **apenas um** dos filtros obtidos para ser utilizado.\n",
    "- Crie um sinal `us` composto por uma soma de cinco senóides de diferentes amplitudes e frequências\n",
    "- Você escolherá os valores das amplitudes\n",
    "- As frequências devem ser, obrigatoriamente: 100Hz, 200Hz, 300Hz, 400Hz, 440Hz\n",
    "- Filtre o sinal `us` e obtenha o sinal de saída `ys`\n",
    "- Mostre, num mesmo gráfico a FFT do sinal antes (`us`) e após (`ys`) o processo de filtragem"
   ]
  },
  {
   "cell_type": "code",
   "execution_count": 4,
   "metadata": {},
   "outputs": [],
   "source": [
    "### SEU CÓDIGO COMEÇA AQUI ###\n",
    "None\n",
    "### FIM DO CÓDIGO ###"
   ]
  },
  {
   "cell_type": "markdown",
   "metadata": {},
   "source": [
    "**Saída esperada**:\n",
    "1. Gráfico de resposta em frequência (módulo e fase) do sinal antes e após passar pelo filtro.\n",
    "___\n",
    "\n",
    "## Desafio (não é obrigatório!)\n",
    "\n",
    "Escolha dois dos filtros obtidos e encontre o circuito ativo que implementa o filtro correspondente, utilizando valores comerciais de componentes (resistores, capacitores, indutores). Implemente o esquemático de um filtro **ativo** e outro filtro **passivo**. Mostre abaixo uma figura com a implementação dos filtros.\n",
    "\n",
    "`[figura com circuito do filtro ativo]` `[figura com circuito do filtro passivo]`\n",
    "\n",
    "Na célula abaixo, mostre a resposta em frequência dos filtros implementados (considerando os valores comerciais dos componentes) junto com o gabarito de projeto."
   ]
  },
  {
   "cell_type": "code",
   "execution_count": 6,
   "metadata": {},
   "outputs": [],
   "source": [
    "### SEU CÓDIGO COMEÇA AQUI ###\n",
    "None\n",
    "### FIM DO CÓDIGO ###"
   ]
  },
  {
   "cell_type": "markdown",
   "metadata": {},
   "source": [
    "___\n",
    "\n",
    "# Concluões\n",
    "\n",
    "Escreva as conclusões deste trabalho, respondendo as seguintes perguntas:\n",
    "1. Qual filtro teve menor ordem? Por que?\n",
    "1. Qual filtro teve menor tempo de acomodação na resposta ao degrau?\n",
    "1. Houve alguma modificação no sinal senoidal `ys` filtrado? Houve alteração significativa na componente espectral de 440Hz? Qual(is) alteração(ões)?\n",
    "1. Escreva uma ou duas frases sintetizando as principais conclusões desse trabalho."
   ]
  },
  {
   "cell_type": "markdown",
   "metadata": {},
   "source": [
    "`[escreva aqui suas conclusões!]`"
   ]
  },
  {
   "cell_type": "markdown",
   "metadata": {},
   "source": [
    "Bom trabalho :c)"
   ]
  }
 ],
 "metadata": {
  "kernelspec": {
   "display_name": "Python 3",
   "language": "python",
   "name": "python3"
  },
  "language_info": {
   "codemirror_mode": {
    "name": "ipython",
    "version": 3
   },
   "file_extension": ".py",
   "mimetype": "text/x-python",
   "name": "python",
   "nbconvert_exporter": "python",
   "pygments_lexer": "ipython3",
   "version": "3.6.11"
  },
  "toc": {
   "base_numbering": 1,
   "nav_menu": {
    "height": "228px",
    "width": "370px"
   },
   "number_sections": true,
   "sideBar": true,
   "skip_h1_title": false,
   "title_cell": "Table of Contents",
   "title_sidebar": "Contents",
   "toc_cell": false,
   "toc_position": {},
   "toc_section_display": true,
   "toc_window_display": false
  }
 },
 "nbformat": 4,
 "nbformat_minor": 2
}
