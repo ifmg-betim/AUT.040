{
 "cells": [
  {
   "cell_type": "markdown",
   "metadata": {},
   "source": [
    "# TP01c - `[escreva seu nome aqui]` - `[escreva seu RA aqui]`\n",
    "\n",
    "Agora vamos implementar alguns sistemas lineares (SLITs) de tempo contínuo.\n",
    "\n",
    "**Instruções:**\n",
    "- Use a versão Python 3.x\n",
    "- Evite sempre usar usar laços `for` e `while`, fazer contas no formato vetorial é sempre mais rápido.\n",
    "- Não apague os comentários que já existem nas células de código. Mas é claro que você pode adicionar outros comentários.\n",
    "\n",
    "**Objetivos**\n",
    "- Implementar e simular sistemas de tempo contínuo\n",
    "- Analisar sinais de entrada e saída de um sistema no domínio da frequência"
   ]
  },
  {
   "cell_type": "markdown",
   "metadata": {},
   "source": [
    "## O Jupyter notebook\n",
    "\n",
    "Coloque o seu código entre os comentários `### SEU CÓDIGO COMEÇA AQUI ###` e `### FIM DO CÓDIGO ###`.\n",
    "\n",
    "**Alguns atalhos úteis *no código*:**\n",
    "- `Ctrl+Enter`: executa a célula e mantém o cursor na mesma célula\n",
    "- `Shift+Enter`: executa a célula e move o cursor para a próxima célula\n",
    "- `Ctrl+/`: comenta a linha de código\n",
    "- `Shift+Tab`: quando o cursor estiver em uma função, mostra um HELP da função\n",
    "\n",
    "**Alguns atalhos úteis *na célula*:**\n",
    "- Cria nova célula `a`: acima, `b`: abaixo da céula selecionada\n",
    "- `d` (2x): deleta célula selecionada\n",
    "- `m`: define célula como texto (Markdown)\n",
    "- `y`: define célula como código (Python)\n",
    "- `l`: mostra numeração das linhas na célula de código\n",
    "- `c`: copiar, `v`: colar, `x`: recortar célula selecionada\n",
    "- `ctrl+shift+p`: mostra busca para todos comandos de célula\n",
    "\n",
    "## Implementando sistemas\n",
    "\n",
    "Vimos que um sistema linear invariante no tempo (SLIT) pode ser representado de diferentes maneiras:\n",
    "- Diagrama esquemático (circuito)\n",
    "- Equação diferencial\n",
    "- Função de transferência\n",
    "- Resposta ao impulso do sistema\n",
    "- Resposta em frequência\n",
    "\n",
    "### Circuito RC\n",
    "Considere o sistema abaixo representado por seu ***diagrama esquemático***, em que $v_\\mathrm{in}$ representa o sinal de entrada e $v_\\mathrm{out}$ o sinal de saída.\n",
    "\n",
    "![circuito_RC](https://upload.wikimedia.org/wikipedia/commons/thumb/e/e0/1st_Order_Lowpass_Filter_RC.svg/250px-1st_Order_Lowpass_Filter_RC.svg.png)\n",
    "\n",
    "A partir do diagrama, e usando as relações \n",
    "$$ v=Ri, \\:\\:\\: i=C\\frac{dv}{dt}, $$\n",
    "é possível escrever:\n",
    "$$ v_\\mathrm{out}(t) = v_\\mathrm{in}(t)-RC \\frac{d v_\\mathrm{out}}{dt}. $$\n",
    "\n",
    "Considerando $x(t)\\equiv v_\\mathrm{in}(t)$ e $y(t)\\equiv v_\\mathrm{out}(t)$, tem-se a ***equação diferencial*** do sistema representada por:\n",
    "\n",
    "$$ \\label{eq:edo} \\tag{1} y(t) + RC \\dot{y}(t) - x(t) = 0 .$$\n",
    "\n",
    "Transformando cada termpo da equação equação acima para o domínio de Laplace, tem se:\n",
    "\n",
    "$$ \\label{eq:lap} \\tag{2}  Y(s) + RC s Y(s) - X(s) = 0, $$\n",
    "\n",
    "em que é possível obter a ***função de transferência*** do sistema:\n",
    "\n",
    "$$ \\label{eq:tf} \\tag{3} H(s) = \\frac{Y(s)}{X(s)} = \\frac{1}{RC s + 1} .$$\n",
    "\n",
    "Fazendo a transformada inversa de Laplace de $\\eqref{eq:tf}$, é possível obter a ***resposta ao impulso***:\n",
    "\n",
    "$$ \\label{eq:ht} \\tag{4} h(t) = \\frac{1}{RC} e^{- \\left(\\frac{1}{RC}\\right) t} .$$\n",
    "\n",
    "Por fim, é possível ainda obter a ***resposta em frequência*** do sistema fazendo $H(j\\omega)=H(s)|_{s=j\\omega}$\n",
    "\n",
    "$$ H(j\\omega) = \\frac{1}{RC j\\omega + 1} .$$\n",
    "\n",
    "Na programação, Utilizaremos a forma de *função de transferência* $\\eqref{eq:tf}$ para implementar no pacote SciPy. Para isso, define-se as variáveis `num` e `den` com os coeficientes do polinômio em $s$ do numerador e do denominador da função de transferência. Por exemplo, para $G(s)=\\frac{3 s^2 - 2 s +5}{7 s - 1}$, fazemos:\n",
    "\n",
    "```num = [3, -2, 5]\n",
    "den = [7, -1]\n",
    "sys = signal.lti(num, den)```\n",
    "\n",
    "Em que `sys` é um objeto que contém todas as informações sobre o sistema $G(s)=\\frac{3 s^2 - 2 s +5}{7 s - 1}$. Mais informações [nesse link](https://docs.scipy.org/doc/scipy/reference/generated/scipy.signal.lti.html?highlight=lti#scipy.signal.lti).\n",
    "\n",
    "Implemente no código abaixo a função de transferêcia do circuito RC $\\eqref{eq:tf}$."
   ]
  },
  {
   "cell_type": "code",
   "execution_count": 25,
   "metadata": {},
   "outputs": [],
   "source": [
    "# Importa bibliotecas\n",
    "import numpy as np, scipy as sp, matplotlib.pyplot as plt\n",
    "from scipy import signal\n",
    "from scipy.fft import fft\n",
    "%matplotlib inline\n",
    "# %matplotlib widget\n",
    "\n",
    "# parâmetros\n",
    "R = 100\n",
    "C = 47e-3\n",
    "\n",
    "### SEU CÓDIGO COMEÇA AQUI ### (≈ 2 linhas de código)\n",
    "num = None\n",
    "den = None\n",
    "sys = None\n",
    "### FIM DO CÓDIGO ###\n",
    "\n",
    "sys"
   ]
  },
  {
   "cell_type": "markdown",
   "metadata": {},
   "source": [
    "**Saída esperada**: informações sobre o objeto `sys`.\n",
    "```\n",
    "TransferFunctionContinuous(\n",
    "array([0.21276596]),\n",
    "array([1.        , 0.21276596]),\n",
    "dt: None\n",
    ")\n",
    "```\n",
    "___\n",
    "\n",
    "### Analisando o sistema implementado\n",
    "\n",
    "Para um sistema de tempo contínuo você pode usar as funções abaixo.\n",
    "- `signal.impulse(sys)`: resposta ao impulso do sistema\n",
    "- `signal.step(sys)`: resposta ao degrau do sistema\n",
    "- `signal.freqresp(sys)`: resposta em frequência\n",
    "- `signal.bode(sys)`: diagrama de Bode\n",
    "\n",
    "**Lembre-se**: você pode consultar ajuda para essas funções na [página do scipy.signal nesse link](https://docs.scipy.org/doc/scipy/reference/signal.html); digitar `?<nome_da_função>` para ver uma ajuda rápida da função; ou ainda posicionar o cursor na chamada da função e apertar `Shift+Tab` do seu teclado.\n",
    "\n",
    "Na célula abaixo, faça três gráficos:\n",
    "1. Resposta ao impulso do sistema\n",
    "1. Resposta em frequência do sinal\n",
    "1. Resposta do sistema a um degrau de amplitude igual a cinco, ou seja, com entrada: $x(t)=5 u(t)$\n",
    "\n",
    "**LEIA ISTO**: Use o mesmo sistema já definido, não precisa definir o sistema novamente. TODO gráfico precisa ter rótulo nos eixos. As figuras devem ter tamanho `(8,2)`, use o comando `plt.figure(figsize=(8,2))`!\n"
   ]
  },
  {
   "cell_type": "code",
   "execution_count": 2,
   "metadata": {},
   "outputs": [],
   "source": [
    "### SEU CÓDIGO COMEÇA AQUI ###\n",
    "None\n",
    "### FIM DO CÓDIGO ###"
   ]
  },
  {
   "cell_type": "markdown",
   "metadata": {},
   "source": [
    "**Saída esperada**:\n",
    "três gráficos: (1) resposta ao impulso, (2) resposta em frequência e (3) resposta ao degrau com amplitude 5.\n",
    "\n",
    "## Implementação de outro sistema\n",
    "\n",
    "Agora você irá implementar um sistema linear. Seus conhecimentos em análise de circuitos serão importantes nessa etapa. Mas, antes, escreva seu RA na variável `RA` abaixo e veja qual dos circuitos (1, 2, 3 ou 4) você implementará."
   ]
  },
  {
   "cell_type": "code",
   "execution_count": 38,
   "metadata": {},
   "outputs": [
    {
     "name": "stdout",
     "output_type": "stream",
     "text": [
      "ATENÇÃO: você deve implementar o circuito 1.\n"
     ]
    }
   ],
   "source": [
    "### SEU CÓDIGO COMEÇA AQUI ### (1 linha)\n",
    "RA = 0\n",
    "### FIM DO CÓDIGO ###\n",
    "print(\"ATENÇÃO: você deve implementar o circuito %d.\"%(RA%4+1))"
   ]
  },
  {
   "cell_type": "markdown",
   "metadata": {},
   "source": [
    "Conforme a saída da célula anterior, para o circuito escolhido, faça:\n",
    "1. Obtenha a equação diferencial do sistema, explicitando entrada e saída (a saída é sempre a tensão em $R_L$)\n",
    "2. Obtenha a função de transferência do sistema no domínio de Laplace\n",
    "3. Implemente a função de transferência (escolha os valores dos parâmetros como quiser)\n",
    "4. Mostre os seguintes gráficos\n",
    "   - Resposta em frequência do sistema (Diagrama de Bode)\n",
    "   - Resposta ao degrau do sistema\n",
    "\n",
    "| Sistema 1  | Sistema 2 |\n",
    "| :---:         |     :---:      |\n",
    "|![](https://upload.wikimedia.org/wikipedia/en/thumb/7/7d/RLC_low-pass.svg/320px-RLC_low-pass.svg.png)| ![](https://upload.wikimedia.org/wikipedia/en/thumb/c/ce/RLC_high-pass.svg/320px-RLC_high-pass.svg.png)|\n",
    "|       | |\n",
    "| **Sistema 3** | **Sistema 4** |\n",
    "|![](https://upload.wikimedia.org/wikipedia/en/thumb/1/14/RLC_series_band-pass.svg/320px-RLC_series_band-pass.svg.png)|![](https://upload.wikimedia.org/wikipedia/en/thumb/3/3f/RLC_series_band-stop.svg/320px-RLC_series_band-stop.svg.png)|\n",
    "\n",
    "\n",
    "**Equação diferencial:** *escreva abaixo a equação diferencial do sistema.*\n",
    "\n",
    "$$2 \\dot y(t) + 3 \\ddot y(t) - 2 \\dot x(t) + 1 x(t) = 0$$\n",
    "`<equação acima é de exemplo apenas! Altere a equação e apague esse comentário>`\n",
    "\n",
    "**Função de Transferência:** *escreva abaixo a função de transferência do sistema.*\n",
    "\n",
    "$$ H(s) = \\frac{ 1 s^2 - 2 s + 3 }{ -9 s^3 + 8 s^2 - 7 s + 3 }$$\n",
    "`<equação acima é de exemplo apenas! Altere a equação e apague esse comentário>`"
   ]
  },
  {
   "cell_type": "code",
   "execution_count": 3,
   "metadata": {},
   "outputs": [],
   "source": [
    "### SEU CÓDIGO COMEÇA AQUI ### (≈ 4 linhas de código)\n",
    "None\n",
    "### FIM DO CÓDIGO ###"
   ]
  },
  {
   "cell_type": "markdown",
   "metadata": {},
   "source": [
    "**Saída esperada**: gráficos com (1) resposta em frequência, diagrama de Bode com magnitude e fase; (2) resposta ao degrau do sistema.\n",
    "___\n",
    "\n",
    "## Simulando o sistema\n",
    "\n",
    "Agora você vai aplicar um sinal aleatório na entrada do sistema $x(t)$ e verificar a sua respectiva resposta $y(t)$. Para isso, faça o seguinte:\n",
    " 1. Crie um sinal aleatório (distribuição gaussiana) usando a função `np.random.normal(loc=valormedio, scale=desviopadrao, size=numeropontos)`. Faça o sinal aleatório com média nula, desvio padrão unitário e um número suficiente de pontos de modo a ter uma boa visualização do espectro. Nomeie esse sinal como `xa`.\n",
    " 2. Aplique o sinal `xa` no sistema (circuito RLC), com condições iniciais nulas, e colete a respectiva saída `ya`. Para isso, use a função `signal.lsim` (consulte [esse link](https://docs.scipy.org/doc/scipy/reference/generated/scipy.signal.lsim.html#scipy.signal.lsim)).\n",
    " 3. Plote, num mesmo gráfico, o módulo de `xa` e o módulo de `ya` (não precisa plotar a fase!). Ajuste as escalas e eixos (frquências em Hz) de modo a ficar claro a modificação que o sistema fez no sinal de entrada para produzir a saída.\n",
    " 4. Faça um gráfico como o anterior (FFT de `xa` e `ya`), mas com as amplitudes em dB e escala logaritmica das frequências (em Hz)."
   ]
  },
  {
   "cell_type": "code",
   "execution_count": 40,
   "metadata": {},
   "outputs": [],
   "source": [
    "### SEU CÓDIGO COMEÇA AQUI ###\n",
    "None\n",
    "### FIM DO CÓDIGO ###"
   ]
  },
  {
   "cell_type": "markdown",
   "metadata": {},
   "source": [
    "**Saída esperada**\n",
    "Dois gráficos: (1) módulo de `xa` e `ya`, mostrando claramente as frequências alteradas pelo sistema, com frequências em Hz; (2) módulo de `xa` e `ya`, com frequências em Hz, amplitudes em dB e escala de frequências logaritmica.\n",
    "___\n",
    "\n",
    "# Concluões\n",
    "\n",
    "Escreva as conclusões deste trabalho, respondendo as seguintes perguntas:\n",
    "1. O sinal aleatório criado, ocupa quais bandas de frequências? Por que?\n",
    "1. O circuito RLC implementado é um filtro de qual tipo? Justifique mencionando os gráficos apresentados.\n",
    "1. Escreva uma ou duas frases para fechar esse trabalho."
   ]
  },
  {
   "cell_type": "markdown",
   "metadata": {},
   "source": [
    "`[escreva aqui suas conclusões!]`"
   ]
  },
  {
   "cell_type": "markdown",
   "metadata": {},
   "source": [
    "Bom trabalho :c)"
   ]
  }
 ],
 "metadata": {
  "kernelspec": {
   "display_name": "Python 3",
   "language": "python",
   "name": "python3"
  },
  "language_info": {
   "codemirror_mode": {
    "name": "ipython",
    "version": 3
   },
   "file_extension": ".py",
   "mimetype": "text/x-python",
   "name": "python",
   "nbconvert_exporter": "python",
   "pygments_lexer": "ipython3",
   "version": "3.6.10"
  },
  "toc": {
   "base_numbering": 1,
   "nav_menu": {
    "height": "228px",
    "width": "370px"
   },
   "number_sections": true,
   "sideBar": true,
   "skip_h1_title": false,
   "title_cell": "Table of Contents",
   "title_sidebar": "Contents",
   "toc_cell": false,
   "toc_position": {},
   "toc_section_display": true,
   "toc_window_display": false
  }
 },
 "nbformat": 4,
 "nbformat_minor": 2
}
