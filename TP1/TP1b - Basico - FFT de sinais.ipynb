{
 "cells": [
  {
   "cell_type": "markdown",
   "metadata": {},
   "source": [
    "# TP01b - `[escreva seu nome aqui]`\n",
    "\n",
    "Bem vindo!\n",
    "Nessa atividade você usará o Jupyter Notebook para analisar sinais e implementar sistemas.\n",
    "\n",
    "**Instruções:**\n",
    "- Use a versão Python 3.x\n",
    "- Evite sempre usar usar laços `for` e `while`, fazer contas no formato vetorial é sempre mais rápido.\n",
    "- Não apague os comentários que já existem nas células de código. Mas é claro que você pode adicionar outros comentários.\n",
    "\n",
    "**Objetivos**\n",
    "- Implementar a transformada de Fourier para sinais\n",
    "- Analisar sinais no domínio da frequência\n",
    "- Implementar um sistema simples"
   ]
  },
  {
   "cell_type": "markdown",
   "metadata": {},
   "source": [
    "## O Jupyter notebook\n",
    "\n",
    "O Jupyter Notebook é um ambiente interativo de programação em uma página web. Nesse notebook você colocará o código entre os comentários `### SEU CÓDIGO COMEÇA AQUI ###` e `### FIM DO CÓDIGO ###`. Após escrever o código, você pode executar a célula com `Shift+Enter` ou no botão \"Run\" (com símbolo de \"play\") na barra de comandos acima.\n",
    "\n",
    "Em alguns trechos será especificado \"(≈ X linhas de código)\" nos comentários para que você tenha uma ideia sobre o tamanho do código a ser desenvolvido naquele trecho. Lembrando que é só uma estimativa, o seu código pode ficar maior ou menor do que o especificado.\n",
    "\n",
    "**Alguns atalhos úteis *no código*:**\n",
    "- `Ctrl+Enter`: executa a célula e mantém o cursor na mesma célula\n",
    "- `Shift+Enter`: executa a célula e move o cursor para a próxima célula\n",
    "- `Ctrl+/`: comenta a linha de código\n",
    "- `Shift+Tab`: quando o cursor estiver em uma função, mostra um HELP da função\n",
    "\n",
    "**Alguns atalhos úteis *na célula*:**\n",
    "- Cria nova célula `a`: acima, `b`: abaixo da céula selecionada\n",
    "- `d` (2x): deleta célula selecionada\n",
    "- `m`: define célula como texto (Markdown)\n",
    "- `y`: define célula como código (Python)\n",
    "- `l`: mostra numeração das linhas na célula de código\n",
    "- `c`: copiar, `v`: colar, `x`: recortar célula selecionada\n",
    "- `ctrl+shift+p`: mostra busca para todos comandos de célula\n",
    "\n",
    "## Análise de sinais no domínio da frequência\n",
    "Como visto em aula, para analisar sinais de tempo contínuo usando ferramenta computacional, será necessário trabalhar com sua versão *amostrada* e *finita*. Para isso, implementaremos a série de Fourier, dada por:\n",
    "$$ \\tilde{X}[k]=\\sum_{n=\\langle N \\rangle} \\tilde{x}[n] e^{-jk(2\\pi/N)n} .$$\n",
    "\n",
    "A função deve ter os seguintes parâmetros:\n",
    "1. Nome da função:\n",
    "  + `serieFourier()`\n",
    "1. Entrada:\n",
    "  + `x`: vetor representando o sinal (para saber a dimensão de um vetor use `x.size` ou `len(x)`)\n",
    "1. Saída:\n",
    "  + `Xk`: vetor com os respectivos valores $X[k]$ da série de Fourier do sinal"
   ]
  },
  {
   "cell_type": "code",
   "execution_count": 1,
   "metadata": {},
   "outputs": [],
   "source": [
    "# Bibliotecas\n",
    "import numpy as np, scipy as sp, matplotlib.pyplot as plt\n",
    "%matplotlib inline\n",
    "\n",
    "### SEU CÓDIGO COMEÇA AQUI ### (≈ 8 linhas de código)\n",
    "def serieFourier(None):\n",
    "    return None\n",
    "\n",
    "### FIM DO CÓDIGO ###"
   ]
  },
  {
   "cell_type": "markdown",
   "metadata": {},
   "source": [
    "**Saída esperada**:\n",
    "nenhuma saída esperada...\n",
    "___\n",
    "\n",
    "Agora teste a função implementda com o sinal senoidal abaixo:\n",
    "$$x(t) = \\mathrm{sen}(4\\pi t) + 0,7\\mathrm{cos}(6\\pi t) + 0,2.$$\n",
    "\n",
    "Note que o sinal é composto por duas frequências básicas, uma em $4\\pi$ rad/s ($2$Hz) e outra em $6\\pi$ rad/s ($3$Hz), e uma constante somada. A amplitude da primeira componente é unitária e a da segunda componente é $0,7$. Espera-se, então, que esse sinal seja representado no domínio da frequência por um pico unitário em $4\\pi$ rad/s ($2$Hz), um pico de amplitude $0,7$ em $6\\pi$ rad/s ($3$Hz) e um pico de amplitude $0,2$ na frequência zero, representando a constante somada no sinal.\n",
    "\n",
    "O sinal ainda está descrito no domínio do tempo contínuo. Use um período de amostragem de $T=0,1$s para representá-lo no tempo discreto, como um vetor. Escolha apropriadamente o tamanho do vetor a ser analisado e veja o efeito na representação no domínio da frequência. *Cuidado! Vetores muito grandes podem deixar o código muito lento!!*\n",
    "\n",
    "1. Defina os parâmetros do sinal nas seguintes variáveis:\n",
    "   - `N` (tamanho do vetor do sinal)\n",
    "   - `n` (vetor com amostras de tempo correspondentes a $nT$)\n",
    "   - `T` (período de amostragem utilizado)\n",
    "- Implemente o sinal amostrado e mostre-o num gráfico (não se esqueça de nomear os eixos!)\n",
    "- Use a função criada para obter o sinal no domínio da frequência $X[k]$\n",
    "- Implemente as transformações necessárias no sinal de modo a exibir toda a potência do sinal no eixo positivo e não mostrar \"repetições espelhadas\" do espectro\n",
    "- Implemente o eixo de frequências em Hertz (`omg_Hz`) e também em rad/s (`omg_rad`)\n",
    "- Faça um gráfico do módulo do sinal no domínio da frequência com eixo horizontal em Hz (confira seus resultados)\n",
    "- Faça um segundo gráfico do módulo do sinal **em dB** com eixo horizontal em rad/s (confira seus resultados)\n",
    "\n",
    "Para os gráficos use `plt.figure(figsize=(8,1.5))` para especificar esse tamanho de figura."
   ]
  },
  {
   "cell_type": "code",
   "execution_count": null,
   "metadata": {},
   "outputs": [],
   "source": [
    "### SEU CÓDIGO COMEÇA AQUI ###\n",
    "N = None #tamanho do sinal\n",
    "n = None #vetor tempo\n",
    "T = None #período de amostragem\n",
    "\n",
    "### FIM DO CÓDIGO ###"
   ]
  },
  {
   "cell_type": "markdown",
   "metadata": {},
   "source": [
    "**Saída esperada**:\n",
    "- Gráfico 1 com pico unitário em $2$Hz, um pico de amplitude $0,7$ em $3$Hz e um pico de amplitude $0,2$ em zero\n",
    "- Gráfico 2, em dB, com pico unitário em $4\\pi$ rad/s, um pico de amplitude $0,7$ em $6\\pi$ rad/s\n",
    "___\n",
    "\n",
    "## Uso de bibliotecas para análise de sinais e *zero-padding*\n",
    "\n",
    "Agora o objetivo é usar uma biblioteca do Scipy para análise no domínio da frequência, em que verificaremos também os efeitos de completar o sinal com zeros. O código abaixo já importa as funções `fft` (transformada direta) e `ifft` (transformada inversa) da biblioteca `scipy`. Saiba mais sobre o uso da função em: https://docs.scipy.org/doc/scipy/reference/tutorial/fft.html\n",
    "\n",
    "1. Usando o mesmo sinal $x(t)$, com um baixo valor de $N$ (e.g., $N=40$), calcule a FFT do sinal usando a função da biblioteca scipy\n",
    "- Use o recurso de *zero padding* da função, especificando $M=200$ amostras para serem calculadas na FFT\n",
    "- Faça as transformações apropriadas no sinal, de modo a obter o mesmo resultado esperado da função implementada. *Atente-se para o fato de que o sinal \"original\" tem $N=40$ amostras, mas a FFT é calculada com $M=200$ amostras. Para fazer a transformação de escala no sinal, deve ser usado $N$ (do sinal original) e não $M$.*\n",
    "- Faça um gráfico do sinal no domínio da frequência representando módulo e frequência em Hz\n",
    "- Faça um gráfico do sinal no domínio da frequência representando a fase do sinal em graus (use `np.angle` com parâmetro `deg=True`)"
   ]
  },
  {
   "cell_type": "code",
   "execution_count": 2,
   "metadata": {},
   "outputs": [],
   "source": [
    "from scipy.fft import fft, ifft #importa função FFT: Fast Fourier Transform\n",
    "\n",
    "### SEU CÓDIGO COMEÇA AQUI ### (≈ 15 linhas de código)\n",
    "None\n",
    "### FIM DO CÓDIGO ###"
   ]
  },
  {
   "cell_type": "markdown",
   "metadata": {},
   "source": [
    "**Saída esperada**:\n",
    "- Gráfico de módulo do sinal (semelhante ao da atividade anterior, mas com efeitos do zero-padding)\n",
    "- Gráfico de fase do sinal\n",
    "___"
   ]
  },
  {
   "cell_type": "markdown",
   "metadata": {},
   "source": [
    "Fim...\n",
    "(Acabou rápido? Faça o desafio opcional abaixo! Se não fizer, tudo bem)\n",
    "\n",
    "\n",
    "## Desafio! (opcional, se você não fizer, não perderá pontos)\n",
    "\n",
    "Faça a FFT de um sinal real de ECG (eletrocardiograma) de uma pessoa saudável e uma pessoa com alguma anomalia. Acesse os dados neste repositório:\n",
    "https://github.com/iizukak/ecg-htm\n",
    "\n",
    "Neste outro repositório tem uma explicação sobre o sinal ECG: https://github.com/mozanunal/digital-filtering-of-ecg-signal\n",
    "\n",
    "É possível distinguir o ECG normal do anormal pela FFT do sinal?"
   ]
  },
  {
   "cell_type": "code",
   "execution_count": 8,
   "metadata": {},
   "outputs": [],
   "source": [
    "### SEU CÓDIGO COMEÇA AQUI ###\n",
    "\n",
    "### FIM DO CÓDIGO ###"
   ]
  },
  {
   "cell_type": "markdown",
   "metadata": {},
   "source": [
    "Fim (ufa!)"
   ]
  }
 ],
 "metadata": {
  "kernelspec": {
   "display_name": "Python 3",
   "language": "python",
   "name": "python3"
  },
  "language_info": {
   "codemirror_mode": {
    "name": "ipython",
    "version": 3
   },
   "file_extension": ".py",
   "mimetype": "text/x-python",
   "name": "python",
   "nbconvert_exporter": "python",
   "pygments_lexer": "ipython3",
   "version": "3.6.10"
  },
  "toc": {
   "base_numbering": 1,
   "nav_menu": {
    "height": "228px",
    "width": "370px"
   },
   "number_sections": true,
   "sideBar": true,
   "skip_h1_title": false,
   "title_cell": "Table of Contents",
   "title_sidebar": "Contents",
   "toc_cell": false,
   "toc_position": {},
   "toc_section_display": true,
   "toc_window_display": false
  }
 },
 "nbformat": 4,
 "nbformat_minor": 2
}
